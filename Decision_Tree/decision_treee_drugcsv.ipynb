{
 "cells": [
  {
   "cell_type": "code",
   "execution_count": 76,
   "id": "0d813802",
   "metadata": {},
   "outputs": [],
   "source": [
    "import numpy as np \n",
    "import pandas as pd \n",
    "from sklearn import tree"
   ]
  },
  {
   "cell_type": "code",
   "execution_count": 77,
   "id": "1d8b4bb6",
   "metadata": {},
   "outputs": [],
   "source": [
    "drug=pd.read_csv('drug.csv')"
   ]
  },
  {
   "cell_type": "code",
   "execution_count": 78,
   "id": "8ce78d68",
   "metadata": {},
   "outputs": [
    {
     "name": "stdout",
     "output_type": "stream",
     "text": [
      "<class 'pandas.core.frame.DataFrame'>\n",
      "RangeIndex: 200 entries, 0 to 199\n",
      "Data columns (total 6 columns):\n",
      " #   Column       Non-Null Count  Dtype  \n",
      "---  ------       --------------  -----  \n",
      " 0   Age          200 non-null    int64  \n",
      " 1   Sex          200 non-null    object \n",
      " 2   BP           200 non-null    object \n",
      " 3   Cholesterol  200 non-null    object \n",
      " 4   Na_to_K      200 non-null    float64\n",
      " 5   Drug         200 non-null    object \n",
      "dtypes: float64(1), int64(1), object(4)\n",
      "memory usage: 9.5+ KB\n"
     ]
    }
   ],
   "source": [
    "drug.info()"
   ]
  },
  {
   "cell_type": "code",
   "execution_count": 79,
   "id": "eaea24c1",
   "metadata": {},
   "outputs": [],
   "source": [
    "drug[\"Sex\"] =pd.factorize(drug.Sex)[0]\n",
    "drug[\"BP\"]  = pd.factorize(drug.BP)[0]\n",
    "drug[\"Cholesterol\"] = pd.factorize(drug.Cholesterol)[0]\n",
    "drug[\"Drug\"] = pd.factorize(drug.Drug)[0]"
   ]
  },
  {
   "cell_type": "code",
   "execution_count": 80,
   "id": "8c88e96d",
   "metadata": {},
   "outputs": [
    {
     "data": {
      "text/html": [
       "<div>\n",
       "<style scoped>\n",
       "    .dataframe tbody tr th:only-of-type {\n",
       "        vertical-align: middle;\n",
       "    }\n",
       "\n",
       "    .dataframe tbody tr th {\n",
       "        vertical-align: top;\n",
       "    }\n",
       "\n",
       "    .dataframe thead th {\n",
       "        text-align: right;\n",
       "    }\n",
       "</style>\n",
       "<table border=\"1\" class=\"dataframe\">\n",
       "  <thead>\n",
       "    <tr style=\"text-align: right;\">\n",
       "      <th></th>\n",
       "      <th>Age</th>\n",
       "      <th>Sex</th>\n",
       "      <th>BP</th>\n",
       "      <th>Cholesterol</th>\n",
       "      <th>Na_to_K</th>\n",
       "      <th>Drug</th>\n",
       "    </tr>\n",
       "  </thead>\n",
       "  <tbody>\n",
       "    <tr>\n",
       "      <th>0</th>\n",
       "      <td>23</td>\n",
       "      <td>0</td>\n",
       "      <td>0</td>\n",
       "      <td>0</td>\n",
       "      <td>25.355</td>\n",
       "      <td>0</td>\n",
       "    </tr>\n",
       "    <tr>\n",
       "      <th>1</th>\n",
       "      <td>47</td>\n",
       "      <td>1</td>\n",
       "      <td>1</td>\n",
       "      <td>0</td>\n",
       "      <td>13.093</td>\n",
       "      <td>1</td>\n",
       "    </tr>\n",
       "    <tr>\n",
       "      <th>2</th>\n",
       "      <td>47</td>\n",
       "      <td>1</td>\n",
       "      <td>1</td>\n",
       "      <td>0</td>\n",
       "      <td>10.114</td>\n",
       "      <td>1</td>\n",
       "    </tr>\n",
       "    <tr>\n",
       "      <th>3</th>\n",
       "      <td>28</td>\n",
       "      <td>0</td>\n",
       "      <td>2</td>\n",
       "      <td>0</td>\n",
       "      <td>7.798</td>\n",
       "      <td>2</td>\n",
       "    </tr>\n",
       "    <tr>\n",
       "      <th>4</th>\n",
       "      <td>61</td>\n",
       "      <td>0</td>\n",
       "      <td>1</td>\n",
       "      <td>0</td>\n",
       "      <td>18.043</td>\n",
       "      <td>0</td>\n",
       "    </tr>\n",
       "  </tbody>\n",
       "</table>\n",
       "</div>"
      ],
      "text/plain": [
       "   Age  Sex  BP  Cholesterol  Na_to_K  Drug\n",
       "0   23    0   0            0   25.355     0\n",
       "1   47    1   1            0   13.093     1\n",
       "2   47    1   1            0   10.114     1\n",
       "3   28    0   2            0    7.798     2\n",
       "4   61    0   1            0   18.043     0"
      ]
     },
     "execution_count": 80,
     "metadata": {},
     "output_type": "execute_result"
    }
   ],
   "source": [
    "drug.head()"
   ]
  },
  {
   "cell_type": "code",
   "execution_count": 81,
   "id": "d8598ec2",
   "metadata": {},
   "outputs": [
    {
     "name": "stdout",
     "output_type": "stream",
     "text": [
      "     Age  Sex  BP  Cholesterol  Na_to_K  Drug\n",
      "0     23    0   0            0   25.355     0\n",
      "1     47    1   1            0   13.093     1\n",
      "2     47    1   1            0   10.114     1\n",
      "3     28    0   2            0    7.798     2\n",
      "4     61    0   1            0   18.043     0\n",
      "..   ...  ...  ..          ...      ...   ...\n",
      "195   56    0   1            0   11.567     1\n",
      "196   16    1   1            0   12.006     1\n",
      "197   52    1   2            0    9.894     2\n",
      "198   23    1   2            1   14.020     2\n",
      "199   40    0   1            1   11.349     2\n",
      "\n",
      "[200 rows x 6 columns]\n"
     ]
    }
   ],
   "source": [
    "print(drug)"
   ]
  },
  {
   "cell_type": "code",
   "execution_count": 82,
   "id": "62e8a9b6",
   "metadata": {},
   "outputs": [],
   "source": [
    "drug = drug.to_numpy()"
   ]
  },
  {
   "cell_type": "code",
   "execution_count": 83,
   "id": "75ff5f74",
   "metadata": {},
   "outputs": [
    {
     "data": {
      "text/plain": [
       "array([[23.   ,  0.   ,  0.   ,  0.   , 25.355,  0.   ],\n",
       "       [47.   ,  1.   ,  1.   ,  0.   , 13.093,  1.   ],\n",
       "       [47.   ,  1.   ,  1.   ,  0.   , 10.114,  1.   ],\n",
       "       ...,\n",
       "       [52.   ,  1.   ,  2.   ,  0.   ,  9.894,  2.   ],\n",
       "       [23.   ,  1.   ,  2.   ,  1.   , 14.02 ,  2.   ],\n",
       "       [40.   ,  0.   ,  1.   ,  1.   , 11.349,  2.   ]])"
      ]
     },
     "execution_count": 83,
     "metadata": {},
     "output_type": "execute_result"
    }
   ],
   "source": [
    "drug"
   ]
  },
  {
   "cell_type": "code",
   "execution_count": 84,
   "id": "04580378",
   "metadata": {},
   "outputs": [],
   "source": [
    "datatraining = np.concatenate((drug[0:80,:] , drug[100:180]),axis =0 )\n",
    "datatest = np.concatenate((drug[80:100,:],drug[180:200,:]), axis = 0)"
   ]
  },
  {
   "cell_type": "code",
   "execution_count": 85,
   "id": "0df02d46",
   "metadata": {},
   "outputs": [
    {
     "data": {
      "text/plain": [
       "160"
      ]
     },
     "execution_count": 85,
     "metadata": {},
     "output_type": "execute_result"
    }
   ],
   "source": [
    "len(datatraining)"
   ]
  },
  {
   "cell_type": "code",
   "execution_count": 86,
   "id": "45c862be",
   "metadata": {},
   "outputs": [
    {
     "data": {
      "text/plain": [
       "40"
      ]
     },
     "execution_count": 86,
     "metadata": {},
     "output_type": "execute_result"
    }
   ],
   "source": [
    "len(datatest)"
   ]
  },
  {
   "cell_type": "code",
   "execution_count": 87,
   "id": "c0b7dbe7",
   "metadata": {},
   "outputs": [],
   "source": [
    "inputTraining = datatraining[:, 0:6]\n",
    "inputTesting = datatest[:, 0:6]\n",
    "labelTraining = datatraining[:, -1]\n",
    "labelTesting = datatest[:, -1]"
   ]
  },
  {
   "cell_type": "code",
   "execution_count": 98,
   "id": "328b2d4a",
   "metadata": {},
   "outputs": [
    {
     "name": "stdout",
     "output_type": "stream",
     "text": [
      "[[23.     0.     0.     0.    25.355  0.   ]\n",
      " [47.     1.     1.     0.    13.093  1.   ]\n",
      " [47.     1.     1.     0.    10.114  1.   ]\n",
      " [28.     0.     2.     0.     7.798  2.   ]\n",
      " [61.     0.     1.     0.    18.043  0.   ]\n",
      " [22.     0.     2.     0.     8.607  2.   ]\n",
      " [49.     0.     2.     0.    16.275  0.   ]\n",
      " [41.     1.     1.     0.    11.037  1.   ]\n",
      " [60.     1.     2.     0.    15.171  0.   ]\n",
      " [43.     1.     1.     1.    19.368  0.   ]\n",
      " [47.     0.     1.     0.    11.767  1.   ]\n",
      " [34.     0.     0.     1.    19.199  0.   ]\n",
      " [43.     1.     1.     0.    15.376  0.   ]\n",
      " [74.     0.     1.     0.    20.942  0.   ]\n",
      " [50.     0.     2.     0.    12.703  2.   ]\n",
      " [16.     0.     0.     1.    15.516  0.   ]\n",
      " [69.     1.     1.     1.    11.455  2.   ]\n",
      " [43.     1.     0.     0.    13.972  3.   ]\n",
      " [23.     1.     1.     0.     7.298  1.   ]\n",
      " [32.     0.     0.     1.    25.974  0.   ]\n",
      " [57.     1.     1.     1.    19.128  0.   ]\n",
      " [63.     1.     2.     0.    25.917  0.   ]\n",
      " [47.     1.     1.     1.    30.568  0.   ]\n",
      " [48.     0.     1.     0.    15.036  0.   ]\n",
      " [33.     0.     1.     0.    33.486  0.   ]\n",
      " [28.     0.     0.     1.    18.809  0.   ]\n",
      " [31.     1.     0.     0.    30.366  0.   ]\n",
      " [49.     0.     2.     1.     9.381  2.   ]\n",
      " [39.     0.     1.     1.    22.697  0.   ]\n",
      " [45.     1.     1.     0.    17.951  0.   ]\n",
      " [18.     0.     2.     1.     8.75   2.   ]\n",
      " [74.     1.     0.     0.     9.567  4.   ]\n",
      " [49.     1.     1.     1.    11.014  2.   ]\n",
      " [65.     0.     0.     1.    31.876  0.   ]\n",
      " [53.     1.     2.     0.    14.133  2.   ]\n",
      " [46.     1.     2.     1.     7.285  2.   ]\n",
      " [32.     1.     0.     1.     9.445  3.   ]\n",
      " [39.     1.     1.     1.    13.938  2.   ]\n",
      " [39.     0.     2.     1.     9.709  2.   ]\n",
      " [15.     1.     2.     0.     9.084  2.   ]\n",
      " [73.     0.     2.     0.    19.221  0.   ]\n",
      " [58.     0.     0.     1.    14.239  4.   ]\n",
      " [50.     1.     2.     1.    15.79   0.   ]\n",
      " [23.     1.     2.     0.    12.26   2.   ]\n",
      " [50.     0.     2.     1.    12.295  2.   ]\n",
      " [66.     0.     2.     1.     8.107  2.   ]\n",
      " [37.     0.     0.     0.    13.091  3.   ]\n",
      " [68.     1.     1.     0.    10.291  1.   ]\n",
      " [23.     1.     2.     0.    31.686  0.   ]\n",
      " [28.     0.     1.     0.    19.796  0.   ]\n",
      " [58.     0.     0.     0.    19.416  0.   ]\n",
      " [67.     1.     2.     1.    10.898  2.   ]\n",
      " [62.     1.     1.     1.    27.183  0.   ]\n",
      " [24.     0.     0.     1.    18.457  0.   ]\n",
      " [68.     0.     0.     1.    10.189  4.   ]\n",
      " [26.     0.     1.     0.    14.16   1.   ]\n",
      " [65.     1.     0.     1.    11.34   4.   ]\n",
      " [40.     1.     0.     0.    27.826  0.   ]\n",
      " [60.     1.     2.     1.    10.091  2.   ]\n",
      " [34.     1.     0.     0.    18.703  0.   ]\n",
      " [38.     0.     1.     1.    29.875  0.   ]\n",
      " [24.     1.     0.     1.     9.475  3.   ]\n",
      " [67.     1.     1.     1.    20.693  0.   ]\n",
      " [45.     1.     1.     1.     8.37   2.   ]\n",
      " [60.     0.     0.     0.    13.303  4.   ]\n",
      " [68.     0.     2.     1.    27.05   0.   ]\n",
      " [29.     1.     0.     0.    12.856  3.   ]\n",
      " [17.     1.     2.     1.    10.832  2.   ]\n",
      " [54.     1.     2.     0.    24.658  0.   ]\n",
      " [18.     0.     0.     1.    24.276  0.   ]\n",
      " [70.     1.     0.     0.    13.967  4.   ]\n",
      " [28.     0.     2.     0.    19.675  0.   ]\n",
      " [24.     0.     2.     0.    10.605  2.   ]\n",
      " [41.     0.     2.     1.    22.905  0.   ]\n",
      " [31.     1.     0.     1.    17.069  0.   ]\n",
      " [26.     1.     1.     1.    20.909  0.   ]\n",
      " [36.     0.     0.     0.    11.198  3.   ]\n",
      " [26.     0.     0.     1.    19.161  0.   ]\n",
      " [19.     0.     0.     0.    13.313  3.   ]\n",
      " [32.     0.     1.     1.    10.84   2.   ]\n",
      " [31.     1.     0.     1.    11.871  3.   ]\n",
      " [45.     0.     0.     0.    12.854  3.   ]\n",
      " [28.     0.     1.     0.    13.127  1.   ]\n",
      " [56.     1.     2.     0.     8.966  2.   ]\n",
      " [22.     1.     0.     1.    28.294  0.   ]\n",
      " [37.     1.     1.     1.     8.968  2.   ]\n",
      " [22.     1.     2.     0.    11.953  2.   ]\n",
      " [42.     1.     1.     0.    20.013  0.   ]\n",
      " [72.     1.     0.     1.     9.677  4.   ]\n",
      " [23.     1.     2.     0.    16.85   0.   ]\n",
      " [50.     1.     0.     0.     7.49   3.   ]\n",
      " [47.     0.     2.     1.     6.683  2.   ]\n",
      " [35.     1.     1.     1.     9.17   2.   ]\n",
      " [65.     0.     1.     1.    13.769  2.   ]\n",
      " [20.     0.     2.     1.     9.281  2.   ]\n",
      " [51.     1.     0.     0.    18.295  0.   ]\n",
      " [67.     1.     2.     1.     9.514  2.   ]\n",
      " [40.     0.     2.     0.    10.103  2.   ]\n",
      " [32.     0.     0.     1.    10.292  3.   ]\n",
      " [61.     0.     0.     0.    25.475  0.   ]\n",
      " [28.     1.     2.     0.    27.064  0.   ]\n",
      " [15.     1.     0.     1.    17.206  0.   ]\n",
      " [34.     1.     2.     0.    22.456  0.   ]\n",
      " [36.     0.     2.     0.    16.753  0.   ]\n",
      " [53.     0.     0.     1.    12.495  4.   ]\n",
      " [19.     0.     0.     1.    25.969  0.   ]\n",
      " [66.     1.     0.     0.    16.347  0.   ]\n",
      " [35.     1.     2.     1.     7.845  2.   ]\n",
      " [47.     1.     1.     1.    33.542  0.   ]\n",
      " [32.     0.     2.     0.     7.477  2.   ]\n",
      " [70.     0.     2.     0.    20.489  0.   ]\n",
      " [52.     1.     1.     1.    32.922  0.   ]\n",
      " [49.     1.     1.     1.    13.598  2.   ]\n",
      " [24.     1.     2.     0.    25.786  0.   ]\n",
      " [42.     0.     0.     0.    21.036  0.   ]\n",
      " [74.     1.     1.     1.    11.939  2.   ]\n",
      " [55.     0.     0.     0.    10.977  4.   ]\n",
      " [35.     0.     0.     0.    12.894  3.   ]\n",
      " [51.     1.     0.     1.    11.343  4.   ]\n",
      " [69.     0.     2.     0.    10.065  2.   ]\n",
      " [49.     1.     0.     1.     6.269  3.   ]\n",
      " [64.     0.     1.     1.    25.741  0.   ]\n",
      " [60.     1.     0.     1.     8.621  4.   ]\n",
      " [74.     1.     0.     1.    15.436  0.   ]\n",
      " [39.     1.     0.     0.     9.664  3.   ]\n",
      " [61.     1.     2.     0.     9.443  2.   ]\n",
      " [37.     0.     1.     1.    12.006  2.   ]\n",
      " [26.     0.     0.     1.    12.307  3.   ]\n",
      " [61.     0.     1.     1.     7.34   2.   ]\n",
      " [22.     1.     1.     0.     8.151  1.   ]\n",
      " [49.     1.     0.     1.     8.7    3.   ]\n",
      " [68.     1.     0.     0.    11.009  4.   ]\n",
      " [55.     1.     2.     1.     7.261  2.   ]\n",
      " [72.     0.     1.     1.    14.642  2.   ]\n",
      " [37.     1.     1.     1.    16.724  0.   ]\n",
      " [49.     1.     1.     0.    10.537  1.   ]\n",
      " [31.     1.     0.     1.    11.227  3.   ]\n",
      " [53.     1.     1.     0.    22.963  0.   ]\n",
      " [59.     0.     1.     0.    10.444  1.   ]\n",
      " [34.     0.     1.     1.    12.923  2.   ]\n",
      " [30.     0.     2.     0.    10.443  2.   ]\n",
      " [57.     0.     0.     1.     9.945  4.   ]\n",
      " [43.     1.     2.     1.    12.859  2.   ]\n",
      " [21.     0.     0.     1.    28.632  0.   ]\n",
      " [16.     1.     0.     1.    19.007  0.   ]\n",
      " [38.     1.     1.     0.    18.295  0.   ]\n",
      " [58.     0.     1.     0.    26.645  0.   ]\n",
      " [57.     0.     2.     0.    14.216  2.   ]\n",
      " [51.     0.     1.     1.    23.003  0.   ]\n",
      " [20.     0.     0.     0.    11.262  3.   ]\n",
      " [28.     0.     2.     0.    12.879  2.   ]\n",
      " [45.     1.     1.     1.    10.017  2.   ]\n",
      " [39.     0.     2.     1.    17.225  0.   ]\n",
      " [41.     0.     1.     1.    18.739  0.   ]\n",
      " [42.     1.     0.     1.    12.766  3.   ]\n",
      " [73.     0.     0.     0.    18.348  0.   ]\n",
      " [48.     1.     0.     1.    10.446  3.   ]\n",
      " [25.     1.     2.     0.    19.011  0.   ]\n",
      " [39.     1.     2.     0.    15.969  0.   ]\n",
      " [67.     0.     2.     0.    15.891  0.   ]]\n"
     ]
    },
    {
     "data": {
      "text/plain": [
       "160"
      ]
     },
     "execution_count": 98,
     "metadata": {},
     "output_type": "execute_result"
    }
   ],
   "source": [
    "print(inputTraining)\n",
    "len(inputTraining)"
   ]
  },
  {
   "cell_type": "markdown",
   "id": "93ae7946",
   "metadata": {},
   "source": []
  },
  {
   "cell_type": "code",
   "execution_count": 89,
   "id": "59765d77",
   "metadata": {},
   "outputs": [],
   "source": [
    "model = tree.DecisionTreeClassifier()"
   ]
  },
  {
   "cell_type": "code",
   "execution_count": 90,
   "id": "d16cbd90",
   "metadata": {},
   "outputs": [],
   "source": [
    "model = model.fit(inputTraining,labelTraining)"
   ]
  },
  {
   "cell_type": "code",
   "execution_count": 91,
   "id": "b14a38e2",
   "metadata": {},
   "outputs": [
    {
     "name": "stdout",
     "output_type": "stream",
     "text": [
      "Label Sebenarnya :  [4. 2. 1. 3. 1. 4. 2. 0. 0. 0. 0. 0. 0. 0. 0. 2. 0. 0. 0. 0. 0. 2. 2. 0.\n",
      " 0. 0. 4. 3. 0. 0. 0. 3. 0. 1. 0. 1. 1. 2. 2. 2.]\n",
      "Hasil Prediksi :  [4. 2. 1. 3. 1. 4. 2. 0. 0. 0. 0. 0. 0. 0. 0. 2. 0. 0. 0. 0. 0. 2. 2. 0.\n",
      " 0. 0. 4. 3. 0. 0. 0. 3. 0. 1. 0. 1. 1. 2. 2. 2.]\n"
     ]
    }
   ],
   "source": [
    "hasilPrediksi = model.predict(inputTesting)\n",
    "print(\"Label Sebenarnya : \", labelTesting)\n",
    "print(\"Hasil Prediksi : \", hasilPrediksi)"
   ]
  },
  {
   "cell_type": "code",
   "execution_count": 92,
   "id": "0cae7dce",
   "metadata": {},
   "outputs": [
    {
     "name": "stdout",
     "output_type": "stream",
     "text": [
      "Prediksi Benar : 40 data\n",
      "Prediksi Salah : 0 data\n",
      "Akurasi : 100.0 %\n"
     ]
    }
   ],
   "source": [
    "prediksiBenar = (hasilPrediksi == labelTesting).sum()\n",
    "prediksiSalah = (hasilPrediksi != labelTesting).sum()\n",
    "print(\"Prediksi Benar :\", prediksiBenar, \"data\")\n",
    "print(\"Prediksi Salah :\", prediksiSalah, \"data\")\n",
    "print(\"Akurasi :\", prediksiBenar/(prediksiBenar+prediksiSalah) * 100, \"%\")"
   ]
  },
  {
   "cell_type": "code",
   "execution_count": 100,
   "id": "c7122b26",
   "metadata": {},
   "outputs": [
    {
     "ename": "AttributeError",
     "evalue": "'numpy.ndarray' object has no attribute 'columns'",
     "output_type": "error",
     "traceback": [
      "\u001b[1;31m---------------------------------------------------------------------------\u001b[0m",
      "\u001b[1;31mAttributeError\u001b[0m                            Traceback (most recent call last)",
      "\u001b[1;32m~\\AppData\\Local\\Temp\\ipykernel_11592\\1374309279.py\u001b[0m in \u001b[0;36m<module>\u001b[1;34m\u001b[0m\n\u001b[0;32m      2\u001b[0m \u001b[1;32mfrom\u001b[0m \u001b[0mIPython\u001b[0m\u001b[1;33m.\u001b[0m\u001b[0mdisplay\u001b[0m \u001b[1;32mimport\u001b[0m \u001b[0mImage\u001b[0m\u001b[1;33m\u001b[0m\u001b[1;33m\u001b[0m\u001b[0m\n\u001b[0;32m      3\u001b[0m \u001b[1;32mimport\u001b[0m \u001b[0mpydotplus\u001b[0m\u001b[1;33m\u001b[0m\u001b[1;33m\u001b[0m\u001b[0m\n\u001b[1;32m----> 4\u001b[1;33m \u001b[0mdot_data\u001b[0m \u001b[1;33m=\u001b[0m \u001b[0mexport_graphviz\u001b[0m\u001b[1;33m(\u001b[0m\u001b[0mmodel\u001b[0m\u001b[1;33m,\u001b[0m \u001b[0mout_file\u001b[0m\u001b[1;33m=\u001b[0m\u001b[1;32mNone\u001b[0m\u001b[1;33m,\u001b[0m \u001b[0mfeature_names\u001b[0m\u001b[1;33m=\u001b[0m\u001b[0mdrug\u001b[0m\u001b[1;33m.\u001b[0m\u001b[0mcolumns\u001b[0m\u001b[1;33m,\u001b[0m \u001b[0mclass_names\u001b[0m\u001b[1;33m=\u001b[0m\u001b[0mdrug\u001b[0m\u001b[1;33m.\u001b[0m\u001b[0munique\u001b[0m\u001b[1;33m(\u001b[0m\u001b[1;33m)\u001b[0m\u001b[1;33m,\u001b[0m \u001b[0mfilled\u001b[0m\u001b[1;33m=\u001b[0m\u001b[1;32mTrue\u001b[0m\u001b[1;33m,\u001b[0m \u001b[0mrounded\u001b[0m\u001b[1;33m=\u001b[0m\u001b[1;32mTrue\u001b[0m\u001b[1;33m,\u001b[0m \u001b[0mspecial_characters\u001b[0m\u001b[1;33m=\u001b[0m\u001b[1;32mTrue\u001b[0m\u001b[1;33m)\u001b[0m\u001b[1;33m\u001b[0m\u001b[1;33m\u001b[0m\u001b[0m\n\u001b[0m\u001b[0;32m      5\u001b[0m \u001b[0mgraph\u001b[0m \u001b[1;33m=\u001b[0m \u001b[0mpydotplus\u001b[0m\u001b[1;33m.\u001b[0m\u001b[0mgraph_from_dot_data\u001b[0m\u001b[1;33m(\u001b[0m\u001b[0mdot_data\u001b[0m\u001b[1;33m)\u001b[0m\u001b[1;33m\u001b[0m\u001b[1;33m\u001b[0m\u001b[0m\n\u001b[0;32m      6\u001b[0m \u001b[0mImage\u001b[0m\u001b[1;33m(\u001b[0m\u001b[0mgraph\u001b[0m\u001b[1;33m.\u001b[0m\u001b[0mcreate_png\u001b[0m\u001b[1;33m(\u001b[0m\u001b[1;33m)\u001b[0m\u001b[1;33m)\u001b[0m\u001b[1;33m\u001b[0m\u001b[1;33m\u001b[0m\u001b[0m\n",
      "\u001b[1;31mAttributeError\u001b[0m: 'numpy.ndarray' object has no attribute 'columns'"
     ]
    }
   ],
   "source": [
    "from sklearn.tree import export_graphviz\n",
    "from IPython.display import Image  \n",
    "import pydotplus\n",
    "dot_data = export_graphviz(model, out_file=None, feature_names=.columns, class_names=drug.unique(), filled=True, rounded=True, special_characters=True)  \n",
    "graph = pydotplus.graph_from_dot_data(dot_data)  \n",
    "Image(graph.create_png())\n",
    "graph.write_png(\"decision_tree.png\")"
   ]
  },
  {
   "cell_type": "code",
   "execution_count": null,
   "id": "a59a74e0",
   "metadata": {},
   "outputs": [],
   "source": []
  },
  {
   "cell_type": "code",
   "execution_count": null,
   "id": "36587d32",
   "metadata": {},
   "outputs": [],
   "source": []
  },
  {
   "cell_type": "code",
   "execution_count": null,
   "id": "34bc7ea1",
   "metadata": {},
   "outputs": [],
   "source": []
  }
 ],
 "metadata": {
  "kernelspec": {
   "display_name": "Python 3 (ipykernel)",
   "language": "python",
   "name": "python3"
  },
  "language_info": {
   "codemirror_mode": {
    "name": "ipython",
    "version": 3
   },
   "file_extension": ".py",
   "mimetype": "text/x-python",
   "name": "python",
   "nbconvert_exporter": "python",
   "pygments_lexer": "ipython3",
   "version": "3.9.13"
  }
 },
 "nbformat": 4,
 "nbformat_minor": 5
}
